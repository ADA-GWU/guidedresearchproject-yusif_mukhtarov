{
 "cells": [
  {
   "cell_type": "code",
   "execution_count": 1,
   "metadata": {},
   "outputs": [
    {
     "name": "stderr",
     "output_type": "stream",
     "text": [
      "c:\\Users\\Lenovo\\AppData\\Local\\Programs\\Python\\Python310\\lib\\site-packages\\tqdm\\auto.py:22: TqdmWarning: IProgress not found. Please update jupyter and ipywidgets. See https://ipywidgets.readthedocs.io/en/stable/user_install.html\n",
      "  from .autonotebook import tqdm as notebook_tqdm\n"
     ]
    }
   ],
   "source": [
    "import numpy as np\n",
    "import torch\n",
    "import torch.nn as nn\n",
    "from torchvision import datasets, transforms\n",
    "from torch.utils.data.sampler import SubsetRandomSampler\n",
    "import matplotlib.pyplot as plt\n",
    "from torch.utils.data import ConcatDataset\n",
    "from PIL import Image\n",
    "import os\n",
    "import torchvision.models as models\n",
    "import time\n",
    "import copy\n",
    "import torch.optim as optim\n",
    "from torch.optim import lr_scheduler\n",
    "import torchvision.transforms as transforms\n",
    "from torch.utils.data import DataLoader\n",
    "from torchvision.datasets import ImageFolder\n",
    "from feature_extraction import feature_extraction, sample_images\n",
    "\n",
    "from dataloading import load_data\n",
    "\n",
    "\n",
    "device = torch.device('cuda' if torch.cuda.is_available() else 'cpu')"
   ]
  },
  {
   "cell_type": "code",
   "execution_count": 2,
   "metadata": {},
   "outputs": [
    {
     "name": "stdout",
     "output_type": "stream",
     "text": [
      "path:  ../data/vegetable_images/train\n",
      "needed_length: 750, expected_length_per_class: 50\n",
      "length of final dataset: 750\n",
      "path:  ../data/vegetable_images/validation\n",
      "needed_length: 150, expected_length_per_class: 10\n",
      "length of final dataset: 150\n",
      "path:  ../data/vegetable_images/test\n",
      "needed_length: 150, expected_length_per_class: 10\n",
      "length of final dataset: 150\n"
     ]
    }
   ],
   "source": [
    "\n",
    "transform = transforms.Compose([ \n",
    "    transforms.Resize((227, 227)),  \n",
    "    transforms.ToTensor()\n",
    "])    \n",
    "\n",
    "data_percentage = 5\n",
    "\n",
    "\n",
    "train_loader, _, classes = load_data(data_dir = '../data/vegetable_images',\n",
    "                           batch_size = 64,\n",
    "                           data_type = \"train\",\n",
    "                           noise_type = \"None\",\n",
    "                           noise_percentage = 0,                           \n",
    "                           transform = transform,                           \n",
    "                           data_percentage=data_percentage)\n",
    "\n",
    "valid_loader, _, _ = load_data(data_dir = '../data/vegetable_images',\n",
    "                           batch_size = 64,\n",
    "                           data_type = \"validation\",\n",
    "                           noise_type = \"None\",\n",
    "                           noise_percentage = 0,                           \n",
    "                           transform = transform,                           \n",
    "                           data_percentage=data_percentage)\n",
    "\n",
    "test_loader, _, _ = load_data(data_dir = '../data/vegetable_images',\n",
    "                           batch_size = 64,\n",
    "                           data_type = \"test\",\n",
    "                           noise_type = \"None\",\n",
    "                           noise_percentage = 0,                           \n",
    "                           transform = transform,                           \n",
    "                           data_percentage=data_percentage)\n"
   ]
  },
  {
   "cell_type": "code",
   "execution_count": 19,
   "metadata": {},
   "outputs": [
    {
     "name": "stdout",
     "output_type": "stream",
     "text": [
      "path:  ../data/vegetable_images/gaussian_noise/test/100\n",
      "needed_length: 150, expected_length_per_class: 10\n",
      "length of final dataset: 150\n"
     ]
    }
   ],
   "source": [
    "test_loader_with_noise, _, _ = load_data(data_dir = '../data/vegetable_images',\n",
    "                           batch_size = 64,\n",
    "                           data_type = \"test\",\n",
    "                           noise_type = \"gaussian_noise\",\n",
    "                           noise_percentage = 100,                           \n",
    "                           transform = transform,                           \n",
    "                           data_percentage=data_percentage)"
   ]
  },
  {
   "cell_type": "code",
   "execution_count": 4,
   "metadata": {},
   "outputs": [],
   "source": [
    "\n",
    "concat_dataset = ConcatDataset([train_loader.dataset, valid_loader.dataset, test_loader.dataset])\n",
    "\n",
    "# Create a new data loader from the concatenated dataset\n",
    "batch_size = 64  # Set your desired batch size\n",
    "concat_loader = DataLoader(concat_dataset, batch_size=batch_size, shuffle=True)"
   ]
  },
  {
   "cell_type": "code",
   "execution_count": 4,
   "metadata": {},
   "outputs": [
    {
     "data": {
      "text/plain": [
       "torch.Size([7552, 3, 51529])"
      ]
     },
     "execution_count": 4,
     "metadata": {},
     "output_type": "execute_result"
    }
   ],
   "source": [
    "total = []\n",
    "for images, _ in train_loader:\n",
    "    images, _ = next(iter(concat_loader))\n",
    "    flattened_image = images.view(images.size(0), images.size(1), -1)\n",
    "    total.append(flattened_image)\n",
    "pixel_values = torch.cat(total, dim=0)\n",
    "pixel_values.shape\n",
    "\n"
   ]
  },
  {
   "cell_type": "code",
   "execution_count": 5,
   "metadata": {},
   "outputs": [
    {
     "data": {
      "text/plain": [
       "torch.Size([3, 51529])"
      ]
     },
     "execution_count": 5,
     "metadata": {},
     "output_type": "execute_result"
    }
   ],
   "source": [
    "mean = torch.mean(pixel_values, dim=0)\n",
    "mean.shape"
   ]
  },
  {
   "cell_type": "code",
   "execution_count": 6,
   "metadata": {},
   "outputs": [
    {
     "data": {
      "text/plain": [
       "tensor([0.4691, 0.4631, 0.3419])"
      ]
     },
     "execution_count": 6,
     "metadata": {},
     "output_type": "execute_result"
    }
   ],
   "source": [
    "mean_per_channel = mean.mean(dim=1)\n",
    "mean_per_channel"
   ]
  },
  {
   "cell_type": "code",
   "execution_count": 7,
   "metadata": {},
   "outputs": [],
   "source": [
    "std = torch.std(pixel_values, dim=0)\n"
   ]
  },
  {
   "cell_type": "code",
   "execution_count": 8,
   "metadata": {},
   "outputs": [
    {
     "data": {
      "text/plain": [
       "tensor([0.0539, 0.0516, 0.0573])"
      ]
     },
     "execution_count": 8,
     "metadata": {},
     "output_type": "execute_result"
    }
   ],
   "source": [
    "std_sq = torch.square(std)\n",
    "std_mean = std_sq.mean(dim = 1)\n",
    "std_mean"
   ]
  },
  {
   "cell_type": "code",
   "execution_count": 9,
   "metadata": {},
   "outputs": [
    {
     "data": {
      "text/plain": [
       "tensor([0.2322, 0.2272, 0.2394])"
      ]
     },
     "execution_count": 9,
     "metadata": {},
     "output_type": "execute_result"
    }
   ],
   "source": [
    "std_mean = torch.sqrt(std_mean)\n",
    "std_mean"
   ]
  },
  {
   "cell_type": "code",
   "execution_count": null,
   "metadata": {},
   "outputs": [],
   "source": []
  },
  {
   "cell_type": "markdown",
   "metadata": {},
   "source": [
    "# Feature Extraction Analysis "
   ]
  },
  {
   "cell_type": "code",
   "execution_count": 6,
   "metadata": {},
   "outputs": [],
   "source": [
    "image, label = next(iter(concat_loader))"
   ]
  },
  {
   "cell_type": "code",
   "execution_count": 7,
   "metadata": {},
   "outputs": [
    {
     "data": {
      "text/plain": [
       "tensor([ 7,  8, 14, 13,  0,  8, 10,  9, 10,  5, 10,  6,  8, 11, 10, 13, 10,  7,\n",
       "         5,  0, 12,  7,  1,  9, 11, 10, 12, 13, 10,  3, 11,  4,  7, 11, 12,  7,\n",
       "        11,  5,  8, 11,  0,  7,  9,  8,  8,  9,  7, 10,  8,  2,  8,  5, 12,  2,\n",
       "         9,  9,  8, 13,  4, 13, 13,  1,  6,  8])"
      ]
     },
     "execution_count": 7,
     "metadata": {},
     "output_type": "execute_result"
    }
   ],
   "source": [
    "label"
   ]
  },
  {
   "cell_type": "code",
   "execution_count": 21,
   "metadata": {},
   "outputs": [],
   "source": [
    "import random\n",
    "\n",
    "class_images = {}\n",
    "\n",
    "for batch in test_loader:\n",
    "    images, labels = batch\n",
    "\n",
    "    for image, label in zip(images, labels):\n",
    "        if label.item() not in class_images:\n",
    "            class_images[label.item()] = []\n",
    "        class_images[label.item()].append(image)\n",
    "for class_label in class_images:\n",
    "    if len(class_images[class_label]) < 10:\n",
    "        raise ValueError(f\"Class {class_label} does not have enough images.\")\n",
    "\n",
    "sampled_images = {}\n",
    "for class_label in class_images:\n",
    "    sampled_images[class_label] = random.sample(class_images[class_label], 10)\n"
   ]
  },
  {
   "cell_type": "code",
   "execution_count": 11,
   "metadata": {},
   "outputs": [],
   "source": [
    "sampled_images = sample_images(test_loader, 10)"
   ]
  },
  {
   "cell_type": "code",
   "execution_count": 18,
   "metadata": {},
   "outputs": [
    {
     "name": "stderr",
     "output_type": "stream",
     "text": [
      "C:\\Users\\Lenovo\\AppData\\Local\\Temp\\ipykernel_2744\\1275619530.py:9: UserWarning: Possible precision loss converting image of type float32 to uint8 as required by rank filters. Convert manually using skimage.util.img_as_ubyte to silence this warning.\n",
      "  df,_ = feature_extraction(image)\n",
      "C:\\Users\\Lenovo\\AppData\\Local\\Temp\\ipykernel_2744\\1275619530.py:9: UserWarning: Possible precision loss converting image of type float32 to uint8 as required by rank filters. Convert manually using skimage.util.img_as_ubyte to silence this warning.\n",
      "  df,_ = feature_extraction(image)\n",
      "C:\\Users\\Lenovo\\AppData\\Local\\Temp\\ipykernel_2744\\1275619530.py:9: UserWarning: Possible precision loss converting image of type float32 to uint8 as required by rank filters. Convert manually using skimage.util.img_as_ubyte to silence this warning.\n",
      "  df,_ = feature_extraction(image)\n",
      "C:\\Users\\Lenovo\\AppData\\Local\\Temp\\ipykernel_2744\\1275619530.py:9: UserWarning: Possible precision loss converting image of type float32 to uint8 as required by rank filters. Convert manually using skimage.util.img_as_ubyte to silence this warning.\n",
      "  df,_ = feature_extraction(image)\n",
      "C:\\Users\\Lenovo\\AppData\\Local\\Temp\\ipykernel_2744\\1275619530.py:9: UserWarning: Possible precision loss converting image of type float32 to uint8 as required by rank filters. Convert manually using skimage.util.img_as_ubyte to silence this warning.\n",
      "  df,_ = feature_extraction(image)\n",
      "C:\\Users\\Lenovo\\AppData\\Local\\Temp\\ipykernel_2744\\1275619530.py:9: UserWarning: Possible precision loss converting image of type float32 to uint8 as required by rank filters. Convert manually using skimage.util.img_as_ubyte to silence this warning.\n",
      "  df,_ = feature_extraction(image)\n",
      "C:\\Users\\Lenovo\\AppData\\Local\\Temp\\ipykernel_2744\\1275619530.py:9: UserWarning: Possible precision loss converting image of type float32 to uint8 as required by rank filters. Convert manually using skimage.util.img_as_ubyte to silence this warning.\n",
      "  df,_ = feature_extraction(image)\n",
      "C:\\Users\\Lenovo\\AppData\\Local\\Temp\\ipykernel_2744\\1275619530.py:9: UserWarning: Possible precision loss converting image of type float32 to uint8 as required by rank filters. Convert manually using skimage.util.img_as_ubyte to silence this warning.\n",
      "  df,_ = feature_extraction(image)\n",
      "C:\\Users\\Lenovo\\AppData\\Local\\Temp\\ipykernel_2744\\1275619530.py:9: UserWarning: Possible precision loss converting image of type float32 to uint8 as required by rank filters. Convert manually using skimage.util.img_as_ubyte to silence this warning.\n",
      "  df,_ = feature_extraction(image)\n",
      "C:\\Users\\Lenovo\\AppData\\Local\\Temp\\ipykernel_2744\\1275619530.py:9: UserWarning: Possible precision loss converting image of type float32 to uint8 as required by rank filters. Convert manually using skimage.util.img_as_ubyte to silence this warning.\n",
      "  df,_ = feature_extraction(image)\n"
     ]
    },
    {
     "data": {
      "image/png": "[encoded data removed]",
      "text/plain": [
       "<Figure size 640x480 with 10 Axes>"
      ]
     },
     "metadata": {},
     "output_type": "display_data"
    }
   ],
   "source": [
    "import matplotlib.pyplot as plt\n",
    "\n",
    "fig, axs = plt.subplots(nrows=2, ncols=5)\n",
    "\n",
    "# Step 4: Iterate over subplots and plot data\n",
    "count = 0\n",
    "for i, ax in enumerate(axs.flatten()):\n",
    "    image = sampled_images[0][count]\n",
    "    df,_ = feature_extraction(image)\n",
    "    ax.plot(df.index, df['Sobel'])\n",
    "    ax.set_title(classes[0])\n",
    "    count+=1\n",
    "\n",
    "# Step 5: Adjust layout and display plot\n",
    "plt.tight_layout()\n",
    "plt.show()"
   ]
  },
  {
   "cell_type": "code",
   "execution_count": null,
   "metadata": {},
   "outputs": [],
   "source": [
    "sampled_images = sample_images(test_loader_with_noise, 10)\n",
    "\n",
    "\n",
    "fig, axs = plt.subplots(nrows=2, ncols=5)\n",
    "\n",
    "# Step 4: Iterate over subplots and plot data\n",
    "count = 0\n",
    "for i, ax in enumerate(axs.flatten()):\n",
    "    image = sampled_images[0][count]\n",
    "    df,_ = feature_extraction(image)\n",
    "    ax.plot(df.index, df['Sobel'])\n",
    "    ax.set_title(classes[0])\n",
    "    count+=1\n",
    "\n",
    "# Step 5: Adjust layout and display plot\n",
    "plt.tight_layout()\n",
    "plt.show()"
   ]
  }
 ],
 "metadata": {
  "kernelspec": {
   "display_name": "Python 3",
   "language": "python",
   "name": "python3"
  },
  "language_info": {
   "codemirror_mode": {
    "name": "ipython",
    "version": 3
   },
   "file_extension": ".py",
   "mimetype": "text/x-python",
   "name": "python",
   "nbconvert_exporter": "python",
   "pygments_lexer": "ipython3",
   "version": "3.10.0"
  },
  "orig_nbformat": 4
 },
 "nbformat": 4,
 "nbformat_minor": 2
}
